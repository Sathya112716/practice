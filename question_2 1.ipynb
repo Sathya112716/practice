{
 "cells": [
  {
   "cell_type": "code",
   "execution_count": 0,
   "metadata": {
    "application/vnd.databricks.v1+cell": {
     "cellMetadata": {
      "byteLimit": 2048000,
      "rowLimit": 10000
     },
     "inputWidgets": {},
     "nuid": "cd229434-5e22-48ee-a281-8c943698b5b5",
     "showTitle": false,
     "title": ""
    }
   },
   "outputs": [
    {
     "output_type": "stream",
     "name": "stdout",
     "output_type": "stream",
     "text": [
      "Python interpreter will be restarted.\nRequirement already satisfied: requests in /databricks/python3/lib/python3.9/site-packages (2.27.1)\nRequirement already satisfied: idna<4,>=2.5 in /databricks/python3/lib/python3.9/site-packages (from requests) (3.3)\nRequirement already satisfied: charset-normalizer~=2.0.0 in /databricks/python3/lib/python3.9/site-packages (from requests) (2.0.4)\nRequirement already satisfied: urllib3<1.27,>=1.21.1 in /databricks/python3/lib/python3.9/site-packages (from requests) (1.26.9)\nRequirement already satisfied: certifi>=2017.4.17 in /databricks/python3/lib/python3.9/site-packages (from requests) (2021.10.8)\nPython interpreter will be restarted.\n"
     ]
    }
   ],
   "source": [
    "pip install requests"
   ]
  },
  {
   "cell_type": "code",
   "execution_count": 0,
   "metadata": {
    "application/vnd.databricks.v1+cell": {
     "cellMetadata": {
      "byteLimit": 2048000,
      "rowLimit": 10000
     },
     "inputWidgets": {},
     "nuid": "0b1c4fb7-bedf-4997-984a-e802e41a7356",
     "showTitle": false,
     "title": ""
    }
   },
   "outputs": [],
   "source": [
    "import requests\n",
    "import json\n",
    "from pyspark.sql.types import *\n",
    "from pyspark.sql.functions import explode, split, current_date"
   ]
  },
  {
   "cell_type": "code",
   "execution_count": 0,
   "metadata": {
    "application/vnd.databricks.v1+cell": {
     "cellMetadata": {
      "byteLimit": 2048000,
      "rowLimit": 10000
     },
     "inputWidgets": {},
     "nuid": "b644e883-00e6-42dc-97c5-d6d3cc16fb59",
     "showTitle": false,
     "title": ""
    }
   },
   "outputs": [
    {
     "output_type": "stream",
     "name": "stdout",
     "output_type": "stream",
     "text": [
      "{'page': 2,\n 'per_page': 6,\n 'total': 12,\n 'total_pages': 2,\n 'data': [{'id': 7,\n   'email': 'michael.lawson@reqres.in',\n   'first_name': 'Michael',\n   'last_name': 'Lawson',\n   'avatar': 'https://reqres.in/img/faces/7-image.jpg'},\n  {'id': 8,\n   'email': 'lindsay.ferguson@reqres.in',\n   'first_name': 'Lindsay',\n   'last_name': 'Ferguson',\n   'avatar': 'https://reqres.in/img/faces/8-image.jpg'},\n  {'id': 9,\n   'email': 'tobias.funke@reqres.in',\n   'first_name': 'Tobias',\n   'last_name': 'Funke',\n   'avatar': 'https://reqres.in/img/faces/9-image.jpg'},\n  {'id': 10,\n   'email': 'byron.fields@reqres.in',\n   'first_name': 'Byron',\n   'last_name': 'Fields',\n   'avatar': 'https://reqres.in/img/faces/10-image.jpg'},\n  {'id': 11,\n   'email': 'george.edwards@reqres.in',\n   'first_name': 'George',\n   'last_name': 'Edwards',\n   'avatar': 'https://reqres.in/img/faces/11-image.jpg'},\n  {'id': 12,\n   'email': 'rachel.howell@reqres.in',\n   'first_name': 'Rachel',\n   'last_name': 'Howell',\n   'avatar': 'https://reqres.in/img/faces/12-image.jpg'}],\n 'support': {'url': 'https://reqres.in/#support-heading',\n  'text': 'To keep ReqRes free, contributions towards server costs are appreciated!'}}"
     ]
    }
   ],
   "source": [
    "response_data = requests.get('https://reqres.in/api/users?page=2')\n",
    "json_data = response_data.json()\n",
    "display(json_data)"
   ]
  },
  {
   "cell_type": "code",
   "execution_count": 0,
   "metadata": {
    "application/vnd.databricks.v1+cell": {
     "cellMetadata": {
      "byteLimit": 2048000,
      "rowLimit": 10000
     },
     "inputWidgets": {},
     "nuid": "c288218a-2104-42c2-addc-9f038f0718d5",
     "showTitle": false,
     "title": ""
    }
   },
   "outputs": [],
   "source": [
    "data_schema = StructType([\n",
    "    StructField(\"id\", IntegerType(), True),\n",
    "    StructField(\"email\", StringType(), True),\n",
    "    StructField(\"first_name\", StringType(), True),\n",
    "    StructField(\"last_name\", StringType(), True),\n",
    "    StructField(\"avatar\", StringType(), True)\n",
    "])\n",
    "\n",
    "custom_schema = StructType([\n",
    "    StructField(\"page\", IntegerType(), True),\n",
    "    StructField(\"per_page\", IntegerType(), True),\n",
    "    StructField(\"total\", IntegerType(), True),\n",
    "    StructField(\"total_pages\", IntegerType(), True),\n",
    "    StructField(\"data\", ArrayType(data_schema), True),\n",
    "    StructField(\"support\", MapType(StringType(), StringType()), True)\n",
    "])\n"
   ]
  },
  {
   "cell_type": "code",
   "execution_count": 0,
   "metadata": {
    "application/vnd.databricks.v1+cell": {
     "cellMetadata": {
      "byteLimit": 2048000,
      "rowLimit": 10000
     },
     "inputWidgets": {},
     "nuid": "7077ddb0-88b9-4575-b204-9b3f4f885a4e",
     "showTitle": false,
     "title": ""
    }
   },
   "outputs": [
    {
     "output_type": "display_data",
     "data": {
      "text/html": [
       "<style scoped>\n",
       "  .table-result-container {\n",
       "    max-height: 300px;\n",
       "    overflow: auto;\n",
       "  }\n",
       "  table, th, td {\n",
       "    border: 1px solid black;\n",
       "    border-collapse: collapse;\n",
       "  }\n",
       "  th, td {\n",
       "    padding: 5px;\n",
       "  }\n",
       "  th {\n",
       "    text-align: left;\n",
       "  }\n",
       "</style><div class='table-result-container'><table class='table-result'><thead style='background-color: white'><tr><th>page</th><th>per_page</th><th>total</th><th>total_pages</th><th>data</th><th>support</th></tr></thead><tbody><tr><td>2</td><td>6</td><td>12</td><td>2</td><td>List(List(7, michael.lawson@reqres.in, Michael, Lawson, https://reqres.in/img/faces/7-image.jpg), List(8, lindsay.ferguson@reqres.in, Lindsay, Ferguson, https://reqres.in/img/faces/8-image.jpg), List(9, tobias.funke@reqres.in, Tobias, Funke, https://reqres.in/img/faces/9-image.jpg), List(10, byron.fields@reqres.in, Byron, Fields, https://reqres.in/img/faces/10-image.jpg), List(11, george.edwards@reqres.in, George, Edwards, https://reqres.in/img/faces/11-image.jpg), List(12, rachel.howell@reqres.in, Rachel, Howell, https://reqres.in/img/faces/12-image.jpg))</td><td>Map(url -> https://reqres.in/#support-heading, text -> To keep ReqRes free, contributions towards server costs are appreciated!)</td></tr></tbody></table></div>"
      ]
     },
     "metadata": {
      "application/vnd.databricks.v1+output": {
       "addedWidgets": {},
       "aggData": [],
       "aggError": "",
       "aggOverflow": false,
       "aggSchema": [],
       "aggSeriesLimitReached": false,
       "aggType": "",
       "arguments": {},
       "columnCustomDisplayInfos": {},
       "data": [
        [
         2,
         6,
         12,
         2,
         [
          [
           7,
           "michael.lawson@reqres.in",
           "Michael",
           "Lawson",
           "https://reqres.in/img/faces/7-image.jpg"
          ],
          [
           8,
           "lindsay.ferguson@reqres.in",
           "Lindsay",
           "Ferguson",
           "https://reqres.in/img/faces/8-image.jpg"
          ],
          [
           9,
           "tobias.funke@reqres.in",
           "Tobias",
           "Funke",
           "https://reqres.in/img/faces/9-image.jpg"
          ],
          [
           10,
           "byron.fields@reqres.in",
           "Byron",
           "Fields",
           "https://reqres.in/img/faces/10-image.jpg"
          ],
          [
           11,
           "george.edwards@reqres.in",
           "George",
           "Edwards",
           "https://reqres.in/img/faces/11-image.jpg"
          ],
          [
           12,
           "rachel.howell@reqres.in",
           "Rachel",
           "Howell",
           "https://reqres.in/img/faces/12-image.jpg"
          ]
         ],
         {
          "text": "To keep ReqRes free, contributions towards server costs are appreciated!",
          "url": "https://reqres.in/#support-heading"
         }
        ]
       ],
       "datasetInfos": [],
       "dbfsResultPath": null,
       "isJsonSchema": true,
       "metadata": {},
       "overflow": false,
       "plotOptions": {
        "customPlotOptions": {},
        "displayType": "table",
        "pivotAggregation": null,
        "pivotColumns": null,
        "xColumns": null,
        "yColumns": null
       },
       "removedWidgets": [],
       "schema": [
        {
         "metadata": "{}",
         "name": "page",
         "type": "\"integer\""
        },
        {
         "metadata": "{}",
         "name": "per_page",
         "type": "\"integer\""
        },
        {
         "metadata": "{}",
         "name": "total",
         "type": "\"integer\""
        },
        {
         "metadata": "{}",
         "name": "total_pages",
         "type": "\"integer\""
        },
        {
         "metadata": "{}",
         "name": "data",
         "type": "{\"type\":\"array\",\"elementType\":{\"type\":\"struct\",\"fields\":[{\"name\":\"id\",\"type\":\"integer\",\"nullable\":true,\"metadata\":{}},{\"name\":\"email\",\"type\":\"string\",\"nullable\":true,\"metadata\":{}},{\"name\":\"first_name\",\"type\":\"string\",\"nullable\":true,\"metadata\":{}},{\"name\":\"last_name\",\"type\":\"string\",\"nullable\":true,\"metadata\":{}},{\"name\":\"avatar\",\"type\":\"string\",\"nullable\":true,\"metadata\":{}}]},\"containsNull\":true}"
        },
        {
         "metadata": "{}",
         "name": "support",
         "type": "{\"type\":\"map\",\"keyType\":\"string\",\"valueType\":\"string\",\"valueContainsNull\":true}"
        }
       ],
       "type": "table"
      }
     },
     "output_type": "display_data"
    }
   ],
   "source": [
    "json_df=json_data\n",
    "df = spark.createDataFrame([json_df], custom_schema)\n",
    "display(df)"
   ]
  },
  {
   "cell_type": "code",
   "execution_count": 0,
   "metadata": {
    "application/vnd.databricks.v1+cell": {
     "cellMetadata": {
      "byteLimit": 2048000,
      "rowLimit": 10000
     },
     "inputWidgets": {},
     "nuid": "5de4c774-41d3-41cb-970a-d56252d63c4b",
     "showTitle": false,
     "title": ""
    }
   },
   "outputs": [
    {
     "output_type": "display_data",
     "data": {
      "text/html": [
       "<style scoped>\n",
       "  .table-result-container {\n",
       "    max-height: 300px;\n",
       "    overflow: auto;\n",
       "  }\n",
       "  table, th, td {\n",
       "    border: 1px solid black;\n",
       "    border-collapse: collapse;\n",
       "  }\n",
       "  th, td {\n",
       "    padding: 5px;\n",
       "  }\n",
       "  th {\n",
       "    text-align: left;\n",
       "  }\n",
       "</style><div class='table-result-container'><table class='table-result'><thead style='background-color: white'><tr><th>data</th></tr></thead><tbody><tr><td>List(List(7, michael.lawson@reqres.in, Michael, Lawson, https://reqres.in/img/faces/7-image.jpg), List(8, lindsay.ferguson@reqres.in, Lindsay, Ferguson, https://reqres.in/img/faces/8-image.jpg), List(9, tobias.funke@reqres.in, Tobias, Funke, https://reqres.in/img/faces/9-image.jpg), List(10, byron.fields@reqres.in, Byron, Fields, https://reqres.in/img/faces/10-image.jpg), List(11, george.edwards@reqres.in, George, Edwards, https://reqres.in/img/faces/11-image.jpg), List(12, rachel.howell@reqres.in, Rachel, Howell, https://reqres.in/img/faces/12-image.jpg))</td></tr></tbody></table></div>"
      ]
     },
     "metadata": {
      "application/vnd.databricks.v1+output": {
       "addedWidgets": {},
       "aggData": [],
       "aggError": "",
       "aggOverflow": false,
       "aggSchema": [],
       "aggSeriesLimitReached": false,
       "aggType": "",
       "arguments": {},
       "columnCustomDisplayInfos": {},
       "data": [
        [
         [
          [
           7,
           "michael.lawson@reqres.in",
           "Michael",
           "Lawson",
           "https://reqres.in/img/faces/7-image.jpg"
          ],
          [
           8,
           "lindsay.ferguson@reqres.in",
           "Lindsay",
           "Ferguson",
           "https://reqres.in/img/faces/8-image.jpg"
          ],
          [
           9,
           "tobias.funke@reqres.in",
           "Tobias",
           "Funke",
           "https://reqres.in/img/faces/9-image.jpg"
          ],
          [
           10,
           "byron.fields@reqres.in",
           "Byron",
           "Fields",
           "https://reqres.in/img/faces/10-image.jpg"
          ],
          [
           11,
           "george.edwards@reqres.in",
           "George",
           "Edwards",
           "https://reqres.in/img/faces/11-image.jpg"
          ],
          [
           12,
           "rachel.howell@reqres.in",
           "Rachel",
           "Howell",
           "https://reqres.in/img/faces/12-image.jpg"
          ]
         ]
        ]
       ],
       "datasetInfos": [],
       "dbfsResultPath": null,
       "isJsonSchema": true,
       "metadata": {},
       "overflow": false,
       "plotOptions": {
        "customPlotOptions": {},
        "displayType": "table",
        "pivotAggregation": null,
        "pivotColumns": null,
        "xColumns": null,
        "yColumns": null
       },
       "removedWidgets": [],
       "schema": [
        {
         "metadata": "{}",
         "name": "data",
         "type": "{\"type\":\"array\",\"elementType\":{\"type\":\"struct\",\"fields\":[{\"name\":\"id\",\"type\":\"integer\",\"nullable\":true,\"metadata\":{}},{\"name\":\"email\",\"type\":\"string\",\"nullable\":true,\"metadata\":{}},{\"name\":\"first_name\",\"type\":\"string\",\"nullable\":true,\"metadata\":{}},{\"name\":\"last_name\",\"type\":\"string\",\"nullable\":true,\"metadata\":{}},{\"name\":\"avatar\",\"type\":\"string\",\"nullable\":true,\"metadata\":{}}]},\"containsNull\":true}"
        }
       ],
       "type": "table"
      }
     },
     "output_type": "display_data"
    }
   ],
   "source": [
    "df = df.drop('page', 'per_page', 'total', 'total_pages', 'support')\n",
    "display(df)"
   ]
  },
  {
   "cell_type": "code",
   "execution_count": 0,
   "metadata": {
    "application/vnd.databricks.v1+cell": {
     "cellMetadata": {
      "byteLimit": 2048000,
      "rowLimit": 10000
     },
     "inputWidgets": {},
     "nuid": "7c9d86e6-040d-4658-a7c7-619b26edb4da",
     "showTitle": false,
     "title": ""
    }
   },
   "outputs": [
    {
     "output_type": "stream",
     "name": "stdout",
     "output_type": "stream",
     "text": [
      "root\n |-- data: array (nullable = true)\n |    |-- element: struct (containsNull = true)\n |    |    |-- id: integer (nullable = true)\n |    |    |-- email: string (nullable = true)\n |    |    |-- first_name: string (nullable = true)\n |    |    |-- last_name: string (nullable = true)\n |    |    |-- avatar: string (nullable = true)\n\n"
     ]
    }
   ],
   "source": [
    "df.printSchema()"
   ]
  },
  {
   "cell_type": "code",
   "execution_count": 0,
   "metadata": {
    "application/vnd.databricks.v1+cell": {
     "cellMetadata": {
      "byteLimit": 2048000,
      "rowLimit": 10000
     },
     "inputWidgets": {},
     "nuid": "dc6fe59a-6334-49da-ba16-2c486520334a",
     "showTitle": false,
     "title": ""
    }
   },
   "outputs": [
    {
     "output_type": "display_data",
     "data": {
      "text/html": [
       "<style scoped>\n",
       "  .table-result-container {\n",
       "    max-height: 300px;\n",
       "    overflow: auto;\n",
       "  }\n",
       "  table, th, td {\n",
       "    border: 1px solid black;\n",
       "    border-collapse: collapse;\n",
       "  }\n",
       "  th, td {\n",
       "    padding: 5px;\n",
       "  }\n",
       "  th {\n",
       "    text-align: left;\n",
       "  }\n",
       "</style><div class='table-result-container'><table class='table-result'><thead style='background-color: white'><tr><th>data</th></tr></thead><tbody><tr><td>List(7, michael.lawson@reqres.in, Michael, Lawson, https://reqres.in/img/faces/7-image.jpg)</td></tr><tr><td>List(8, lindsay.ferguson@reqres.in, Lindsay, Ferguson, https://reqres.in/img/faces/8-image.jpg)</td></tr><tr><td>List(9, tobias.funke@reqres.in, Tobias, Funke, https://reqres.in/img/faces/9-image.jpg)</td></tr><tr><td>List(10, byron.fields@reqres.in, Byron, Fields, https://reqres.in/img/faces/10-image.jpg)</td></tr><tr><td>List(11, george.edwards@reqres.in, George, Edwards, https://reqres.in/img/faces/11-image.jpg)</td></tr><tr><td>List(12, rachel.howell@reqres.in, Rachel, Howell, https://reqres.in/img/faces/12-image.jpg)</td></tr></tbody></table></div>"
      ]
     },
     "metadata": {
      "application/vnd.databricks.v1+output": {
       "addedWidgets": {},
       "aggData": [],
       "aggError": "",
       "aggOverflow": false,
       "aggSchema": [],
       "aggSeriesLimitReached": false,
       "aggType": "",
       "arguments": {},
       "columnCustomDisplayInfos": {},
       "data": [
        [
         [
          7,
          "michael.lawson@reqres.in",
          "Michael",
          "Lawson",
          "https://reqres.in/img/faces/7-image.jpg"
         ]
        ],
        [
         [
          8,
          "lindsay.ferguson@reqres.in",
          "Lindsay",
          "Ferguson",
          "https://reqres.in/img/faces/8-image.jpg"
         ]
        ],
        [
         [
          9,
          "tobias.funke@reqres.in",
          "Tobias",
          "Funke",
          "https://reqres.in/img/faces/9-image.jpg"
         ]
        ],
        [
         [
          10,
          "byron.fields@reqres.in",
          "Byron",
          "Fields",
          "https://reqres.in/img/faces/10-image.jpg"
         ]
        ],
        [
         [
          11,
          "george.edwards@reqres.in",
          "George",
          "Edwards",
          "https://reqres.in/img/faces/11-image.jpg"
         ]
        ],
        [
         [
          12,
          "rachel.howell@reqres.in",
          "Rachel",
          "Howell",
          "https://reqres.in/img/faces/12-image.jpg"
         ]
        ]
       ],
       "datasetInfos": [],
       "dbfsResultPath": null,
       "isJsonSchema": true,
       "metadata": {},
       "overflow": false,
       "plotOptions": {
        "customPlotOptions": {},
        "displayType": "table",
        "pivotAggregation": null,
        "pivotColumns": null,
        "xColumns": null,
        "yColumns": null
       },
       "removedWidgets": [],
       "schema": [
        {
         "metadata": "{}",
         "name": "data",
         "type": "{\"type\":\"struct\",\"fields\":[{\"name\":\"id\",\"type\":\"integer\",\"nullable\":true,\"metadata\":{}},{\"name\":\"email\",\"type\":\"string\",\"nullable\":true,\"metadata\":{}},{\"name\":\"first_name\",\"type\":\"string\",\"nullable\":true,\"metadata\":{}},{\"name\":\"last_name\",\"type\":\"string\",\"nullable\":true,\"metadata\":{}},{\"name\":\"avatar\",\"type\":\"string\",\"nullable\":true,\"metadata\":{}}]}"
        }
       ],
       "type": "table"
      }
     },
     "output_type": "display_data"
    }
   ],
   "source": [
    "df = df.withColumn('data', explode('data'))\n",
    "display(df)"
   ]
  },
  {
   "cell_type": "code",
   "execution_count": 0,
   "metadata": {
    "application/vnd.databricks.v1+cell": {
     "cellMetadata": {
      "byteLimit": 2048000,
      "rowLimit": 10000
     },
     "inputWidgets": {},
     "nuid": "5fc12bba-62fc-48bb-9e43-adb0d2872d25",
     "showTitle": false,
     "title": ""
    }
   },
   "outputs": [
    {
     "output_type": "stream",
     "name": "stdout",
     "output_type": "stream",
     "text": [
      "root\n |-- data: struct (nullable = true)\n |    |-- id: integer (nullable = true)\n |    |-- email: string (nullable = true)\n |    |-- first_name: string (nullable = true)\n |    |-- last_name: string (nullable = true)\n |    |-- avatar: string (nullable = true)\n\n"
     ]
    }
   ],
   "source": [
    "df.printSchema()"
   ]
  },
  {
   "cell_type": "code",
   "execution_count": 0,
   "metadata": {
    "application/vnd.databricks.v1+cell": {
     "cellMetadata": {
      "byteLimit": 2048000,
      "rowLimit": 10000
     },
     "inputWidgets": {},
     "nuid": "5373275c-a268-4f92-90db-355ebc04b7ea",
     "showTitle": false,
     "title": ""
    }
   },
   "outputs": [
    {
     "output_type": "display_data",
     "data": {
      "text/html": [
       "<style scoped>\n",
       "  .table-result-container {\n",
       "    max-height: 300px;\n",
       "    overflow: auto;\n",
       "  }\n",
       "  table, th, td {\n",
       "    border: 1px solid black;\n",
       "    border-collapse: collapse;\n",
       "  }\n",
       "  th, td {\n",
       "    padding: 5px;\n",
       "  }\n",
       "  th {\n",
       "    text-align: left;\n",
       "  }\n",
       "</style><div class='table-result-container'><table class='table-result'><thead style='background-color: white'><tr><th>id</th><th>email</th><th>first_name</th><th>last_name</th><th>aatar</th></tr></thead><tbody><tr><td>7</td><td>michael.lawson@reqres.in</td><td>Michael</td><td>Lawson</td><td>https://reqres.in/img/faces/7-image.jpg</td></tr><tr><td>8</td><td>lindsay.ferguson@reqres.in</td><td>Lindsay</td><td>Ferguson</td><td>https://reqres.in/img/faces/8-image.jpg</td></tr><tr><td>9</td><td>tobias.funke@reqres.in</td><td>Tobias</td><td>Funke</td><td>https://reqres.in/img/faces/9-image.jpg</td></tr><tr><td>10</td><td>byron.fields@reqres.in</td><td>Byron</td><td>Fields</td><td>https://reqres.in/img/faces/10-image.jpg</td></tr><tr><td>11</td><td>george.edwards@reqres.in</td><td>George</td><td>Edwards</td><td>https://reqres.in/img/faces/11-image.jpg</td></tr><tr><td>12</td><td>rachel.howell@reqres.in</td><td>Rachel</td><td>Howell</td><td>https://reqres.in/img/faces/12-image.jpg</td></tr></tbody></table></div>"
      ]
     },
     "metadata": {
      "application/vnd.databricks.v1+output": {
       "addedWidgets": {},
       "aggData": [],
       "aggError": "",
       "aggOverflow": false,
       "aggSchema": [],
       "aggSeriesLimitReached": false,
       "aggType": "",
       "arguments": {},
       "columnCustomDisplayInfos": {},
       "data": [
        [
         7,
         "michael.lawson@reqres.in",
         "Michael",
         "Lawson",
         "https://reqres.in/img/faces/7-image.jpg"
        ],
        [
         8,
         "lindsay.ferguson@reqres.in",
         "Lindsay",
         "Ferguson",
         "https://reqres.in/img/faces/8-image.jpg"
        ],
        [
         9,
         "tobias.funke@reqres.in",
         "Tobias",
         "Funke",
         "https://reqres.in/img/faces/9-image.jpg"
        ],
        [
         10,
         "byron.fields@reqres.in",
         "Byron",
         "Fields",
         "https://reqres.in/img/faces/10-image.jpg"
        ],
        [
         11,
         "george.edwards@reqres.in",
         "George",
         "Edwards",
         "https://reqres.in/img/faces/11-image.jpg"
        ],
        [
         12,
         "rachel.howell@reqres.in",
         "Rachel",
         "Howell",
         "https://reqres.in/img/faces/12-image.jpg"
        ]
       ],
       "datasetInfos": [],
       "dbfsResultPath": null,
       "isJsonSchema": true,
       "metadata": {},
       "overflow": false,
       "plotOptions": {
        "customPlotOptions": {},
        "displayType": "table",
        "pivotAggregation": null,
        "pivotColumns": null,
        "xColumns": null,
        "yColumns": null
       },
       "removedWidgets": [],
       "schema": [
        {
         "metadata": "{}",
         "name": "id",
         "type": "\"integer\""
        },
        {
         "metadata": "{}",
         "name": "email",
         "type": "\"string\""
        },
        {
         "metadata": "{}",
         "name": "first_name",
         "type": "\"string\""
        },
        {
         "metadata": "{}",
         "name": "last_name",
         "type": "\"string\""
        },
        {
         "metadata": "{}",
         "name": "aatar",
         "type": "\"string\""
        }
       ],
       "type": "table"
      }
     },
     "output_type": "display_data"
    }
   ],
   "source": [
    "df = df.withColumn(\"id\", df.data.id).withColumn('email', df.data.email).withColumn('first_name', df.data.first_name).withColumn('last_name', df.data.last_name).withColumn('aatar', df.data.avatar).drop(df.data)\n",
    "display(df)"
   ]
  },
  {
   "cell_type": "code",
   "execution_count": 0,
   "metadata": {
    "application/vnd.databricks.v1+cell": {
     "cellMetadata": {
      "byteLimit": 2048000,
      "rowLimit": 10000
     },
     "inputWidgets": {},
     "nuid": "314fefa3-2182-4803-8234-41dadd632f0e",
     "showTitle": false,
     "title": ""
    }
   },
   "outputs": [
    {
     "output_type": "display_data",
     "data": {
      "text/html": [
       "<style scoped>\n",
       "  .table-result-container {\n",
       "    max-height: 300px;\n",
       "    overflow: auto;\n",
       "  }\n",
       "  table, th, td {\n",
       "    border: 1px solid black;\n",
       "    border-collapse: collapse;\n",
       "  }\n",
       "  th, td {\n",
       "    padding: 5px;\n",
       "  }\n",
       "  th {\n",
       "    text-align: left;\n",
       "  }\n",
       "</style><div class='table-result-container'><table class='table-result'><thead style='background-color: white'><tr><th>id</th><th>email</th><th>first_name</th><th>last_name</th><th>aatar</th><th>site_address</th></tr></thead><tbody><tr><td>7</td><td>michael.lawson@reqres.in</td><td>Michael</td><td>Lawson</td><td>https://reqres.in/img/faces/7-image.jpg</td><td>reqres.in</td></tr><tr><td>8</td><td>lindsay.ferguson@reqres.in</td><td>Lindsay</td><td>Ferguson</td><td>https://reqres.in/img/faces/8-image.jpg</td><td>reqres.in</td></tr><tr><td>9</td><td>tobias.funke@reqres.in</td><td>Tobias</td><td>Funke</td><td>https://reqres.in/img/faces/9-image.jpg</td><td>reqres.in</td></tr><tr><td>10</td><td>byron.fields@reqres.in</td><td>Byron</td><td>Fields</td><td>https://reqres.in/img/faces/10-image.jpg</td><td>reqres.in</td></tr><tr><td>11</td><td>george.edwards@reqres.in</td><td>George</td><td>Edwards</td><td>https://reqres.in/img/faces/11-image.jpg</td><td>reqres.in</td></tr><tr><td>12</td><td>rachel.howell@reqres.in</td><td>Rachel</td><td>Howell</td><td>https://reqres.in/img/faces/12-image.jpg</td><td>reqres.in</td></tr></tbody></table></div>"
      ]
     },
     "metadata": {
      "application/vnd.databricks.v1+output": {
       "addedWidgets": {},
       "aggData": [],
       "aggError": "",
       "aggOverflow": false,
       "aggSchema": [],
       "aggSeriesLimitReached": false,
       "aggType": "",
       "arguments": {},
       "columnCustomDisplayInfos": {},
       "data": [
        [
         7,
         "michael.lawson@reqres.in",
         "Michael",
         "Lawson",
         "https://reqres.in/img/faces/7-image.jpg",
         "reqres.in"
        ],
        [
         8,
         "lindsay.ferguson@reqres.in",
         "Lindsay",
         "Ferguson",
         "https://reqres.in/img/faces/8-image.jpg",
         "reqres.in"
        ],
        [
         9,
         "tobias.funke@reqres.in",
         "Tobias",
         "Funke",
         "https://reqres.in/img/faces/9-image.jpg",
         "reqres.in"
        ],
        [
         10,
         "byron.fields@reqres.in",
         "Byron",
         "Fields",
         "https://reqres.in/img/faces/10-image.jpg",
         "reqres.in"
        ],
        [
         11,
         "george.edwards@reqres.in",
         "George",
         "Edwards",
         "https://reqres.in/img/faces/11-image.jpg",
         "reqres.in"
        ],
        [
         12,
         "rachel.howell@reqres.in",
         "Rachel",
         "Howell",
         "https://reqres.in/img/faces/12-image.jpg",
         "reqres.in"
        ]
       ],
       "datasetInfos": [],
       "dbfsResultPath": null,
       "isJsonSchema": true,
       "metadata": {},
       "overflow": false,
       "plotOptions": {
        "customPlotOptions": {},
        "displayType": "table",
        "pivotAggregation": null,
        "pivotColumns": null,
        "xColumns": null,
        "yColumns": null
       },
       "removedWidgets": [],
       "schema": [
        {
         "metadata": "{}",
         "name": "id",
         "type": "\"integer\""
        },
        {
         "metadata": "{}",
         "name": "email",
         "type": "\"string\""
        },
        {
         "metadata": "{}",
         "name": "first_name",
         "type": "\"string\""
        },
        {
         "metadata": "{}",
         "name": "last_name",
         "type": "\"string\""
        },
        {
         "metadata": "{}",
         "name": "aatar",
         "type": "\"string\""
        },
        {
         "metadata": "{}",
         "name": "site_address",
         "type": "\"string\""
        }
       ],
       "type": "table"
      }
     },
     "output_type": "display_data"
    }
   ],
   "source": [
    "derived_site_address_df = df.withColumn(\"site_address\",split(df[\"email\"],\"@\")[1])\n",
    "display(derived_site_address_df)"
   ]
  },
  {
   "cell_type": "code",
   "execution_count": 0,
   "metadata": {
    "application/vnd.databricks.v1+cell": {
     "cellMetadata": {
      "byteLimit": 2048000,
      "rowLimit": 10000
     },
     "inputWidgets": {},
     "nuid": "c1ee4d54-b26c-4262-8667-001bf94a948a",
     "showTitle": false,
     "title": ""
    }
   },
   "outputs": [
    {
     "output_type": "display_data",
     "data": {
      "text/html": [
       "<style scoped>\n",
       "  .table-result-container {\n",
       "    max-height: 300px;\n",
       "    overflow: auto;\n",
       "  }\n",
       "  table, th, td {\n",
       "    border: 1px solid black;\n",
       "    border-collapse: collapse;\n",
       "  }\n",
       "  th, td {\n",
       "    padding: 5px;\n",
       "  }\n",
       "  th {\n",
       "    text-align: left;\n",
       "  }\n",
       "</style><div class='table-result-container'><table class='table-result'><thead style='background-color: white'><tr><th>id</th><th>email</th><th>first_name</th><th>last_name</th><th>aatar</th><th>site_address</th><th>load_date</th></tr></thead><tbody><tr><td>7</td><td>michael.lawson@reqres.in</td><td>Michael</td><td>Lawson</td><td>https://reqres.in/img/faces/7-image.jpg</td><td>reqres.in</td><td>2024-04-16</td></tr><tr><td>8</td><td>lindsay.ferguson@reqres.in</td><td>Lindsay</td><td>Ferguson</td><td>https://reqres.in/img/faces/8-image.jpg</td><td>reqres.in</td><td>2024-04-16</td></tr><tr><td>9</td><td>tobias.funke@reqres.in</td><td>Tobias</td><td>Funke</td><td>https://reqres.in/img/faces/9-image.jpg</td><td>reqres.in</td><td>2024-04-16</td></tr><tr><td>10</td><td>byron.fields@reqres.in</td><td>Byron</td><td>Fields</td><td>https://reqres.in/img/faces/10-image.jpg</td><td>reqres.in</td><td>2024-04-16</td></tr><tr><td>11</td><td>george.edwards@reqres.in</td><td>George</td><td>Edwards</td><td>https://reqres.in/img/faces/11-image.jpg</td><td>reqres.in</td><td>2024-04-16</td></tr><tr><td>12</td><td>rachel.howell@reqres.in</td><td>Rachel</td><td>Howell</td><td>https://reqres.in/img/faces/12-image.jpg</td><td>reqres.in</td><td>2024-04-16</td></tr></tbody></table></div>"
      ]
     },
     "metadata": {
      "application/vnd.databricks.v1+output": {
       "addedWidgets": {},
       "aggData": [],
       "aggError": "",
       "aggOverflow": false,
       "aggSchema": [],
       "aggSeriesLimitReached": false,
       "aggType": "",
       "arguments": {},
       "columnCustomDisplayInfos": {},
       "data": [
        [
         7,
         "michael.lawson@reqres.in",
         "Michael",
         "Lawson",
         "https://reqres.in/img/faces/7-image.jpg",
         "reqres.in",
         "2024-04-16"
        ],
        [
         8,
         "lindsay.ferguson@reqres.in",
         "Lindsay",
         "Ferguson",
         "https://reqres.in/img/faces/8-image.jpg",
         "reqres.in",
         "2024-04-16"
        ],
        [
         9,
         "tobias.funke@reqres.in",
         "Tobias",
         "Funke",
         "https://reqres.in/img/faces/9-image.jpg",
         "reqres.in",
         "2024-04-16"
        ],
        [
         10,
         "byron.fields@reqres.in",
         "Byron",
         "Fields",
         "https://reqres.in/img/faces/10-image.jpg",
         "reqres.in",
         "2024-04-16"
        ],
        [
         11,
         "george.edwards@reqres.in",
         "George",
         "Edwards",
         "https://reqres.in/img/faces/11-image.jpg",
         "reqres.in",
         "2024-04-16"
        ],
        [
         12,
         "rachel.howell@reqres.in",
         "Rachel",
         "Howell",
         "https://reqres.in/img/faces/12-image.jpg",
         "reqres.in",
         "2024-04-16"
        ]
       ],
       "datasetInfos": [],
       "dbfsResultPath": null,
       "isJsonSchema": true,
       "metadata": {},
       "overflow": false,
       "plotOptions": {
        "customPlotOptions": {},
        "displayType": "table",
        "pivotAggregation": null,
        "pivotColumns": null,
        "xColumns": null,
        "yColumns": null
       },
       "removedWidgets": [],
       "schema": [
        {
         "metadata": "{}",
         "name": "id",
         "type": "\"integer\""
        },
        {
         "metadata": "{}",
         "name": "email",
         "type": "\"string\""
        },
        {
         "metadata": "{}",
         "name": "first_name",
         "type": "\"string\""
        },
        {
         "metadata": "{}",
         "name": "last_name",
         "type": "\"string\""
        },
        {
         "metadata": "{}",
         "name": "aatar",
         "type": "\"string\""
        },
        {
         "metadata": "{}",
         "name": "site_address",
         "type": "\"string\""
        },
        {
         "metadata": "{}",
         "name": "load_date",
         "type": "\"date\""
        }
       ],
       "type": "table"
      }
     },
     "output_type": "display_data"
    }
   ],
   "source": [
    "loaded_date = derived_site_address_df.withColumn('load_date', current_date())\n",
    "display(loaded_date)"
   ]
  },
  {
   "cell_type": "code",
   "execution_count": 0,
   "metadata": {
    "application/vnd.databricks.v1+cell": {
     "cellMetadata": {
      "byteLimit": 2048000,
      "rowLimit": 10000
     },
     "inputWidgets": {},
     "nuid": "392d2e0f-724a-4126-8fcf-e6bbab6335e6",
     "showTitle": false,
     "title": ""
    }
   },
   "outputs": [],
   "source": [
    "loaded_date.write.format('delta').mode('overwrite').save('dbfs:/FileStore/assignments/question2/site_info/person_info')"
   ]
  },
  {
   "cell_type": "code",
   "execution_count": 0,
   "metadata": {
    "application/vnd.databricks.v1+cell": {
     "cellMetadata": {
      "byteLimit": 2048000,
      "rowLimit": 10000
     },
     "inputWidgets": {},
     "nuid": "a2286fe9-810e-4d26-a3b3-61451e796171",
     "showTitle": false,
     "title": ""
    }
   },
   "outputs": [
    {
     "output_type": "display_data",
     "data": {
      "text/html": [
       "<style scoped>\n",
       "  .table-result-container {\n",
       "    max-height: 300px;\n",
       "    overflow: auto;\n",
       "  }\n",
       "  table, th, td {\n",
       "    border: 1px solid black;\n",
       "    border-collapse: collapse;\n",
       "  }\n",
       "  th, td {\n",
       "    padding: 5px;\n",
       "  }\n",
       "  th {\n",
       "    text-align: left;\n",
       "  }\n",
       "</style><div class='table-result-container'><table class='table-result'><thead style='background-color: white'><tr><th>id</th><th>email</th><th>first_name</th><th>last_name</th><th>aatar</th><th>site_address</th><th>load_date</th></tr></thead><tbody><tr><td>7</td><td>michael.lawson@reqres.in</td><td>Michael</td><td>Lawson</td><td>https://reqres.in/img/faces/7-image.jpg</td><td>reqres.in</td><td>2024-04-16</td></tr><tr><td>8</td><td>lindsay.ferguson@reqres.in</td><td>Lindsay</td><td>Ferguson</td><td>https://reqres.in/img/faces/8-image.jpg</td><td>reqres.in</td><td>2024-04-16</td></tr><tr><td>9</td><td>tobias.funke@reqres.in</td><td>Tobias</td><td>Funke</td><td>https://reqres.in/img/faces/9-image.jpg</td><td>reqres.in</td><td>2024-04-16</td></tr><tr><td>10</td><td>byron.fields@reqres.in</td><td>Byron</td><td>Fields</td><td>https://reqres.in/img/faces/10-image.jpg</td><td>reqres.in</td><td>2024-04-16</td></tr><tr><td>11</td><td>george.edwards@reqres.in</td><td>George</td><td>Edwards</td><td>https://reqres.in/img/faces/11-image.jpg</td><td>reqres.in</td><td>2024-04-16</td></tr><tr><td>12</td><td>rachel.howell@reqres.in</td><td>Rachel</td><td>Howell</td><td>https://reqres.in/img/faces/12-image.jpg</td><td>reqres.in</td><td>2024-04-16</td></tr></tbody></table></div>"
      ]
     },
     "metadata": {
      "application/vnd.databricks.v1+output": {
       "addedWidgets": {},
       "aggData": [],
       "aggError": "",
       "aggOverflow": false,
       "aggSchema": [],
       "aggSeriesLimitReached": false,
       "aggType": "",
       "arguments": {},
       "columnCustomDisplayInfos": {},
       "data": [
        [
         7,
         "michael.lawson@reqres.in",
         "Michael",
         "Lawson",
         "https://reqres.in/img/faces/7-image.jpg",
         "reqres.in",
         "2024-04-16"
        ],
        [
         8,
         "lindsay.ferguson@reqres.in",
         "Lindsay",
         "Ferguson",
         "https://reqres.in/img/faces/8-image.jpg",
         "reqres.in",
         "2024-04-16"
        ],
        [
         9,
         "tobias.funke@reqres.in",
         "Tobias",
         "Funke",
         "https://reqres.in/img/faces/9-image.jpg",
         "reqres.in",
         "2024-04-16"
        ],
        [
         10,
         "byron.fields@reqres.in",
         "Byron",
         "Fields",
         "https://reqres.in/img/faces/10-image.jpg",
         "reqres.in",
         "2024-04-16"
        ],
        [
         11,
         "george.edwards@reqres.in",
         "George",
         "Edwards",
         "https://reqres.in/img/faces/11-image.jpg",
         "reqres.in",
         "2024-04-16"
        ],
        [
         12,
         "rachel.howell@reqres.in",
         "Rachel",
         "Howell",
         "https://reqres.in/img/faces/12-image.jpg",
         "reqres.in",
         "2024-04-16"
        ]
       ],
       "datasetInfos": [],
       "dbfsResultPath": null,
       "isJsonSchema": true,
       "metadata": {},
       "overflow": false,
       "plotOptions": {
        "customPlotOptions": {},
        "displayType": "table",
        "pivotAggregation": null,
        "pivotColumns": null,
        "xColumns": null,
        "yColumns": null
       },
       "removedWidgets": [],
       "schema": [
        {
         "metadata": "{}",
         "name": "id",
         "type": "\"integer\""
        },
        {
         "metadata": "{}",
         "name": "email",
         "type": "\"string\""
        },
        {
         "metadata": "{}",
         "name": "first_name",
         "type": "\"string\""
        },
        {
         "metadata": "{}",
         "name": "last_name",
         "type": "\"string\""
        },
        {
         "metadata": "{}",
         "name": "aatar",
         "type": "\"string\""
        },
        {
         "metadata": "{}",
         "name": "site_address",
         "type": "\"string\""
        },
        {
         "metadata": "{}",
         "name": "load_date",
         "type": "\"date\""
        }
       ],
       "type": "table"
      }
     },
     "output_type": "display_data"
    }
   ],
   "source": [
    "testing_df = spark.read.format('delta').load('dbfs:/FileStore/assignments/question2/site_info/person_info')\n",
    "display(testing_df)"
   ]
  },
  {
   "cell_type": "code",
   "execution_count": 0,
   "metadata": {
    "application/vnd.databricks.v1+cell": {
     "cellMetadata": {},
     "inputWidgets": {},
     "nuid": "bd99acb6-b9cf-44e6-8b20-593ffc84193f",
     "showTitle": false,
     "title": ""
    }
   },
   "outputs": [],
   "source": []
  }
 ],
 "metadata": {
  "application/vnd.databricks.v1+notebook": {
   "dashboards": [],
   "language": "python",
   "notebookMetadata": {
    "pythonIndentUnit": 4
   },
   "notebookName": "question_2",
   "widgets": {}
  }
 },
 "nbformat": 4,
 "nbformat_minor": 0
}
